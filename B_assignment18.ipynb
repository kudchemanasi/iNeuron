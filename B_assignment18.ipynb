{
 "cells": [
  {
   "cell_type": "code",
   "execution_count": null,
   "id": "7137995a",
   "metadata": {},
   "outputs": [],
   "source": [
    "\"\"\"1. Create a zoo.py file first. Define the hours() function, which prints the string 'Open 9-5 daily'. Then, use the interactive interpreter to import the zoo module and call its hours() function.\"\"\""
   ]
  },
  {
   "cell_type": "code",
   "execution_count": null,
   "id": "cb46d15e",
   "metadata": {},
   "outputs": [],
   "source": [
    "from google.colab import files\n",
    "uploaded = files.upload()"
   ]
  },
  {
   "cell_type": "code",
   "execution_count": null,
   "id": "5a04783f",
   "metadata": {},
   "outputs": [],
   "source": [
    "\"\"\"2. In the interactive interpreter, import the zoo module as menagerie and call its hours() function.\"\"\""
   ]
  },
  {
   "cell_type": "code",
   "execution_count": null,
   "id": "81d7052b",
   "metadata": {},
   "outputs": [],
   "source": [
    "import zoo\n",
    "from importlib import reload\n",
    "reload(zoo)\n",
    "\n",
    "zoo.hours()"
   ]
  },
  {
   "cell_type": "code",
   "execution_count": null,
   "id": "3bd00696",
   "metadata": {},
   "outputs": [],
   "source": [
    "\"\"\"3. Using the interpreter, explicitly import and call the hours() function from zoo.\"\"\""
   ]
  },
  {
   "cell_type": "code",
   "execution_count": null,
   "id": "241615b2",
   "metadata": {},
   "outputs": [],
   "source": [
    "import zoo as menagerie\n",
    "menagerie.hours()"
   ]
  },
  {
   "cell_type": "code",
   "execution_count": null,
   "id": "540f3aaa",
   "metadata": {},
   "outputs": [],
   "source": [
    "\"\"\"4. Import the hours() function as info and call it\"\"\""
   ]
  },
  {
   "cell_type": "code",
   "execution_count": null,
   "id": "93e8f43a",
   "metadata": {},
   "outputs": [],
   "source": [
    "from zoo import hours\n",
    "hours()"
   ]
  },
  {
   "cell_type": "code",
   "execution_count": null,
   "id": "1041cfe8",
   "metadata": {},
   "outputs": [],
   "source": [
    "\"\"\"5. Create a plain dictionary with the key-value pairs 'a': 1, 'b': 2, and 'c': 3, and print it out.\"\"\""
   ]
  },
  {
   "cell_type": "code",
   "execution_count": null,
   "id": "ade81477",
   "metadata": {},
   "outputs": [],
   "source": [
    "plain = {'a': 1, 'b': 2, 'c': 3}\n",
    "plain"
   ]
  },
  {
   "cell_type": "code",
   "execution_count": null,
   "id": "37a77793",
   "metadata": {},
   "outputs": [],
   "source": [
    "\"\"\"6.Make an OrderedDict called fancy from the same pairs listed in 5 and print it. Did it print in the same order as plain?\"\"\""
   ]
  },
  {
   "cell_type": "code",
   "execution_count": null,
   "id": "22607d69",
   "metadata": {},
   "outputs": [],
   "source": [
    "from collections import OrderedDict\n",
    "fancy = OrderedDict([('a', 1), ('b', 2), ('c', 3)])\n",
    "fancy"
   ]
  },
  {
   "cell_type": "code",
   "execution_count": null,
   "id": "13338dea",
   "metadata": {},
   "outputs": [],
   "source": [
    "\"\"\"7. Make a default dictionary called dict_of_lists and pass it the argument list. Make the list dict_of_lists['a'] and append the value 'something for a' to it in one assignment. Print dict_of_lists['a'].\"\"\""
   ]
  },
  {
   "cell_type": "code",
   "execution_count": null,
   "id": "68c009d2",
   "metadata": {},
   "outputs": [],
   "source": [
    "from collections import defaultdict\n",
    "dict_of_lists = defaultdict(list)\n",
    "dict_of_lists['a'].append('something for a')\n",
    "dict_of_lists['a']"
   ]
  }
 ],
 "metadata": {
  "kernelspec": {
   "display_name": "Python 3",
   "language": "python",
   "name": "python3"
  },
  "language_info": {
   "codemirror_mode": {
    "name": "ipython",
    "version": 3
   },
   "file_extension": ".py",
   "mimetype": "text/x-python",
   "name": "python",
   "nbconvert_exporter": "python",
   "pygments_lexer": "ipython3",
   "version": "3.8.8"
  }
 },
 "nbformat": 4,
 "nbformat_minor": 5
}
