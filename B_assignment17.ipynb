{
 "cells": [
  {
   "cell_type": "code",
   "execution_count": null,
   "id": "cf513a36",
   "metadata": {},
   "outputs": [],
   "source": [
    "\"\"\"1. Assign the value 7 to the variable guess_me. Then, write the conditional tests (if, else, and elif) to print the string 'too low' if guess_me is less than 7, 'too high' if greater than 7, and 'just right' if equal to 7.\"\"\""
   ]
  },
  {
   "cell_type": "code",
   "execution_count": null,
   "id": "3b52708d",
   "metadata": {},
   "outputs": [],
   "source": [
    "print_header(section)\n",
    "guess_me = 7\n",
    "if guess_me < 7:\n",
    "    print(\"too low\")\n",
    "elif guess_me > 7:\n",
    "    print(\"too high\")\n",
    "else:\n",
    "    print(\"just right\")\n",
    "print_footer(section)"
   ]
  },
  {
   "cell_type": "code",
   "execution_count": null,
   "id": "49d73086",
   "metadata": {},
   "outputs": [],
   "source": [
    "\"\"\"2. Assign the value 7 to the variable guess_me and the value 1 to the variable start. Write a while loop that compares start with guess_me. Print too low if start is less than guess me. If start equals guess_me, print 'found it!' and exit the loop. If start is greater than guess_me, print 'oops' and exit the loop. Increment start at the end of the loop.\"\"\""
   ]
  },
  {
   "cell_type": "code",
   "execution_count": null,
   "id": "359bfe14",
   "metadata": {},
   "outputs": [],
   "source": [
    "\n",
    "guess_me = 7\n",
    "start = 1\n",
    "\n",
    "while True:\n",
    "    if start < guess_me:\n",
    "        print('too low')\n",
    "    elif start == guess_me:\n",
    "        print('found it!')\n",
    "        break\n",
    "    else:\n",
    "        print('oops')\n",
    "        break\n",
    "    start += 1\n",
    "print_footer(section)"
   ]
  },
  {
   "cell_type": "code",
   "execution_count": null,
   "id": "395b1bc7",
   "metadata": {},
   "outputs": [],
   "source": [
    "\"\"\"3. Print the following values of the list [3, 2, 1, 0] using a for loop.\"\"\""
   ]
  },
  {
   "cell_type": "code",
   "execution_count": null,
   "id": "f6347f33",
   "metadata": {},
   "outputs": [],
   "source": [
    "\n",
    "numbers = [3, 2, 1, 0]\n",
    "for num in numbers:\n",
    "    print(num)\n",
    "print_footer(section)"
   ]
  },
  {
   "cell_type": "code",
   "execution_count": null,
   "id": "0cc77308",
   "metadata": {},
   "outputs": [],
   "source": [
    "\"\"\"4. Use a list comprehension to make a list of the even numbers in range(10)\"\"\""
   ]
  },
  {
   "cell_type": "code",
   "execution_count": null,
   "id": "0e414d06",
   "metadata": {},
   "outputs": [],
   "source": [
    "\n",
    "even_numbers = [num for num in range(10) if num % 2 == 0]\n",
    "print(even_numbers)\n",
    "print_footer(section)"
   ]
  },
  {
   "cell_type": "code",
   "execution_count": null,
   "id": "de713b91",
   "metadata": {},
   "outputs": [],
   "source": [
    "\"\"\"5. Use a dictionary comprehension to create the dictionary squares. Use range(10) to return the keys, and use the square of each key as its value.\"\"\""
   ]
  },
  {
   "cell_type": "code",
   "execution_count": null,
   "id": "11d896fb",
   "metadata": {},
   "outputs": [],
   "source": [
    "\n",
    "limit = 10\n",
    "squares = {num: num * num for num in range(limit)}\n",
    "print(squares)\n",
    "print_footer(section)"
   ]
  },
  {
   "cell_type": "code",
   "execution_count": null,
   "id": "b71c8d5b",
   "metadata": {},
   "outputs": [],
   "source": [
    "\"\"\"6. Construct the set odd from the odd numbers in the range using a set comprehension (10).\"\"\""
   ]
  },
  {
   "cell_type": "code",
   "execution_count": null,
   "id": "391a25b3",
   "metadata": {},
   "outputs": [],
   "source": [
    "\n",
    "limit = 10\n",
    "odd = {num for num in range(limit) if num % 2 == 1}\n",
    "print(odd)\n",
    "print_footer(section)"
   ]
  },
  {
   "cell_type": "code",
   "execution_count": null,
   "id": "9eec951c",
   "metadata": {},
   "outputs": [],
   "source": [
    "\"\"\"7. Use a generator comprehension to return the string 'Got ' and a number for the numbers in range(10). Iterate through this by using a for loop\"\"\""
   ]
  },
  {
   "cell_type": "code",
   "execution_count": null,
   "id": "2bb5d72b",
   "metadata": {},
   "outputs": [],
   "source": [
    "\n",
    "limit = 10\n",
    "string_generator = ('Got ' + str(num) for num in range(limit))\n",
    "for item in string_generator:\n",
    "    print(item)\n",
    "print_footer(section)"
   ]
  },
  {
   "cell_type": "code",
   "execution_count": null,
   "id": "d5f0abd2",
   "metadata": {},
   "outputs": [],
   "source": [
    "\"\"\"8. Define a function called good that returns the list ['Harry', 'Ron', 'Hermione'].\"\"\""
   ]
  },
  {
   "cell_type": "code",
   "execution_count": null,
   "id": "452a0952",
   "metadata": {},
   "outputs": [],
   "source": [
    "def good():\n",
    "    return ['Harry', 'Ron', 'Hermione']\n",
    "\n",
    "\n",
    "print(good())\n",
    "print_footer(section)"
   ]
  },
  {
   "cell_type": "code",
   "execution_count": null,
   "id": "4a707278",
   "metadata": {},
   "outputs": [],
   "source": [
    "\"\"\"9. Define a generator function called get_odds that returns the odd numbers from range(10). Use a for loop to find and print the third value returned\"\"\""
   ]
  },
  {
   "cell_type": "code",
   "execution_count": null,
   "id": "42c8c966",
   "metadata": {},
   "outputs": [],
   "source": [
    "\n",
    "limit = 10\n",
    "get_odds = (num for num in range(limit) if not num % 2 == 0)\n",
    "count = 0\n",
    "for num in get_odds:\n",
    "    if count == 2:\n",
    "        print(num)\n",
    "        break\n",
    "    count += 1\n",
    "print_footer(section)"
   ]
  },
  {
   "cell_type": "code",
   "execution_count": null,
   "id": "f372d1f4",
   "metadata": {},
   "outputs": [],
   "source": [
    "\"\"\"10. Define an exception called OopsException. Raise this exception to see what happens. Then write the code to catch this exception and print 'Caught an oops'.\"\"\""
   ]
  },
  {
   "cell_type": "code",
   "execution_count": null,
   "id": "e4d44573",
   "metadata": {},
   "outputs": [],
   "source": [
    "def test(func):\n",
    "    def nested_function(*args, **kwargs):\n",
    "        print('start')\n",
    "        result = func(*args, **kwargs)\n",
    "        print('end')\n",
    "        return result\n",
    "    return nested_function\n",
    "\n",
    "@test\n",
    "def add(a, b):\n",
    "    print(a + b)\n",
    "\n",
    "add(12,4)"
   ]
  },
  {
   "cell_type": "code",
   "execution_count": null,
   "id": "92a6e947",
   "metadata": {},
   "outputs": [],
   "source": [
    "\"\"\"11. Use zip() to make a dictionary called movies that pairs these lists: titles = ['Creature of Habit', 'Crewel Fate'] and plots = ['A nun turns into a monster', 'A haunted yarn shop'].\"\"\""
   ]
  },
  {
   "cell_type": "code",
   "execution_count": null,
   "id": "b1cacd6b",
   "metadata": {},
   "outputs": [],
   "source": [
    "class OopsException(Exception):\n",
    "    pass\n",
    "\n",
    "\n",
    "def with_exception(a):\n",
    "    if a < 0:\n",
    "        raise OopsException(a)\n",
    "\n",
    "\n",
    "try:\n",
    "    with_exception(-1)\n",
    "except OopsException as err:\n",
    "    print('Caught an oops')\n",
    "\n",
    "print_footer(section)"
   ]
  }
 ],
 "metadata": {
  "kernelspec": {
   "display_name": "Python 3",
   "language": "python",
   "name": "python3"
  },
  "language_info": {
   "codemirror_mode": {
    "name": "ipython",
    "version": 3
   },
   "file_extension": ".py",
   "mimetype": "text/x-python",
   "name": "python",
   "nbconvert_exporter": "python",
   "pygments_lexer": "ipython3",
   "version": "3.8.8"
  }
 },
 "nbformat": 4,
 "nbformat_minor": 5
}
