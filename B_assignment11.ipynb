{
 "cells": [
  {
   "cell_type": "code",
   "execution_count": null,
   "id": "4479fd47",
   "metadata": {},
   "outputs": [],
   "source": [
    "1. Create an assert statement that throws an AssertionError if the variable spam is a negative integer."
   ]
  },
  {
   "cell_type": "code",
   "execution_count": 1,
   "id": "1fe10177",
   "metadata": {},
   "outputs": [],
   "source": [
    "spam = 100\n",
    "assert spam >= 10, 'Your spam is less than 10!'"
   ]
  },
  {
   "cell_type": "code",
   "execution_count": null,
   "id": "21c143b2",
   "metadata": {},
   "outputs": [],
   "source": [
    "2. Write an assert statement that triggers an AssertionError if the variables eggs and bacon contain strings that are the same as each other, even if their cases are different (that is, 'hello' and 'hello' are considered the same, and 'goodbye' and 'GOODbye' are also considered the same)."
   ]
  },
  {
   "cell_type": "code",
   "execution_count": null,
   "id": "5308c269",
   "metadata": {},
   "outputs": [],
   "source": [
    "eggs = 'hello'\n",
    "bacon = 'good bye'\n",
    "assert eggs.lower() != bacon.lower(), 'eggs/bacon should not be the same!'"
   ]
  },
  {
   "cell_type": "code",
   "execution_count": null,
   "id": "d59faba2",
   "metadata": {},
   "outputs": [],
   "source": [
    "03. Write an assert statement that always triggers an AssertionError.\n",
    "assert True, 'Always triggers an AssertionError.'"
   ]
  },
  {
   "cell_type": "code",
   "execution_count": null,
   "id": "8f6d5ac5",
   "metadata": {},
   "outputs": [],
   "source": [
    "5. What are the two lines that your program must have in order to have logging.debug() send a logging message to a file named programLog.txt?"
   ]
  },
  {
   "cell_type": "code",
   "execution_count": null,
   "id": "37ce2740",
   "metadata": {},
   "outputs": [],
   "source": [
    "import logging\n",
    "logging.basicConfig(\n",
    "    filename='programLog.txt',\n",
    "    level=logging.DEBUG,\n",
    "    format='%(asctime)s - %(levelname)s - %(message)s'\n",
    ")"
   ]
  },
  {
   "cell_type": "code",
   "execution_count": null,
   "id": "93e520aa",
   "metadata": {},
   "outputs": [],
   "source": [
    "06. What are the 5 logging levels.\n",
    " logging.debug() - variable's state and small details\n",
    " logging.info() - general events, confirm a program is working\n",
    " logging.warning() - potiental problem to work on in the future\n",
    " logging.error() - record an error that caused program to fail to do something\n",
    " logging.critical() - fatal error that has caused"
   ]
  },
  {
   "cell_type": "code",
   "execution_count": null,
   "id": "bc03c062",
   "metadata": {},
   "outputs": [],
   "source": [
    "07. What line of code would you add to your software to disable all logging messages?"
   ]
  },
  {
   "cell_type": "code",
   "execution_count": null,
   "id": "5281eb09",
   "metadata": {},
   "outputs": [],
   "source": [
    "logging.disable(logging.DEBUG)"
   ]
  },
  {
   "cell_type": "code",
   "execution_count": null,
   "id": "737e7f5d",
   "metadata": {},
   "outputs": [],
   "source": [
    " 08. Why is using logging messages better than using print() to display\n",
    "the same message?\n",
    "Ans :  Because with print, when your program is ready for production, you still\n",
    " have to \"remove\" or comment it out. Verses logging message, you can toggle\n",
    " the setting on/off or write to a file (send to a server). It is more flexible\n",
    " especially with logging level 1-5."
   ]
  },
  {
   "cell_type": "code",
   "execution_count": null,
   "id": "3ff0fc06",
   "metadata": {},
   "outputs": [],
   "source": [
    "09. What are ther difference between Step, Over and Out buttons in the\n",
    " Debug Control Window?\n",
    " Step - one line execution at a time\n",
    " Over - excecute the next line of code, but if it is a program, it will\n",
    "       complete the entire function call.\n",
    " out  - execute the lines of code unti it returns from the current function.\n",
    "        (out is useful when you stepped into a function call)."
   ]
  },
  {
   "cell_type": "code",
   "execution_count": null,
   "id": "c08eff38",
   "metadata": {},
   "outputs": [],
   "source": [
    "10. After you click Go in the Debugger, when will it stop?\n",
    " Go runs until the program terminate or reaches a breakpoint set.\n",
    "\n",
    " 11/12. What is a breakpoint? How to create it?\n",
    " When you have Debugger enabled and you can right click on any lines\n",
    " to create a breakpoint. During Go - it will stop there and await your next\n",
    " command."
   ]
  }
 ],
 "metadata": {
  "kernelspec": {
   "display_name": "Python 3",
   "language": "python",
   "name": "python3"
  },
  "language_info": {
   "codemirror_mode": {
    "name": "ipython",
    "version": 3
   },
   "file_extension": ".py",
   "mimetype": "text/x-python",
   "name": "python",
   "nbconvert_exporter": "python",
   "pygments_lexer": "ipython3",
   "version": "3.8.8"
  }
 },
 "nbformat": 4,
 "nbformat_minor": 5
}
